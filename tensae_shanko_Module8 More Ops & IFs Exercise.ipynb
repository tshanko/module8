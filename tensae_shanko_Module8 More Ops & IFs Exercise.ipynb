{
 "cells": [
  {
   "cell_type": "markdown",
   "metadata": {},
   "source": [
    "### Exercise 1\n",
    "Ask for an exam score and store that number. If the number is greater than 100, then print out 'You cannot have an exam score higher than 100'. If the number doesn't exceeed 100 but is greater than or equal to 75, then print out 'You did great on your exam!'. Otherwise if they scored lower than 75, then print out 'You need to study harder'."
   ]
  },
  {
   "cell_type": "code",
   "execution_count": 3,
   "metadata": {},
   "outputs": [
    {
     "name": "stdout",
     "output_type": "stream",
     "text": [
      "what is your exam score, round to the next number if needed: 33\n"
     ]
    }
   ],
   "source": [
    "score = int(input(\"what is your exam score, round to the next number if needed: \"))"
   ]
  },
  {
   "cell_type": "code",
   "execution_count": 4,
   "metadata": {},
   "outputs": [
    {
     "name": "stdout",
     "output_type": "stream",
     "text": [
      "You need to study harder\n"
     ]
    }
   ],
   "source": [
    "if score > 100: \n",
    "    print(\"You cannot have an exam score higher than 100\")\n",
    "elif score >= 75 :\n",
    "    print(\"You did great on your exam!\")\n",
    "else : \n",
    "    print(\"You need to study harder\")"
   ]
  },
  {
   "cell_type": "markdown",
   "metadata": {},
   "source": [
    "### Exercise 2\n",
    "Ask a user to enter two numbers and find their average. Then, print out the average and whether each number is below or above average. Determine if a function should be created or not.\n",
    "    "
   ]
  },
  {
   "cell_type": "code",
   "execution_count": 5,
   "metadata": {},
   "outputs": [
    {
     "name": "stdout",
     "output_type": "stream",
     "text": [
      "enter a number54\n",
      "enter another number2\n",
      "Your number 54 is greater than average 28.0\n",
      "Your number 2 is equal to the average 28.0\n"
     ]
    }
   ],
   "source": [
    "var1 = int(input(\"enter a number: \"))\n",
    "var2 = int(input(\"enter another number: \"))\n",
    "avg = (var1 + var2) / 2\n",
    "if var1 > avg : \n",
    "    print(f\"Your number {var1} is greater than average {avg}\")\n",
    "elif var1 < avg : \n",
    "    print(f\"Your number {var1} is less than average {avg}\")\n",
    "else : \n",
    "    print(f\"Your number {var1} is equal to the average {avg}\")\n",
    "\n",
    "if var2 > avg : \n",
    "    print(f\"Your number {var2} is greater than average {avg}\")\n",
    "elif var1 < avg : \n",
    "    print(f\"Your number {var2} is less than average {avg}\")\n",
    "else : \n",
    "    print(f\"Your number {var2} is equal to the average {avg}\")"
   ]
  },
  {
   "cell_type": "code",
   "execution_count": null,
   "metadata": {},
   "outputs": [],
   "source": []
  },
  {
   "cell_type": "code",
   "execution_count": null,
   "metadata": {},
   "outputs": [],
   "source": []
  },
  {
   "cell_type": "markdown",
   "metadata": {},
   "source": [
    "### Exercise 3\n",
    "Write a function to convert a test score to a grade where  \n",
    " - 90 - 100: A\n",
    " - 80 - 89:  B\n",
    " - 70 - 79:  C\n",
    " - 60 - 69:  D\n",
    " - < 60   :  F\n",
    " \n",
    "If a score is not between 0 and 100 then print out an error message. In the program, ask the user for a score and then call your function. "
   ]
  },
  {
   "cell_type": "code",
   "execution_count": null,
   "metadata": {},
   "outputs": [],
   "source": []
  },
  {
   "cell_type": "code",
   "execution_count": 3,
   "metadata": {},
   "outputs": [],
   "source": [
    "def get_grade(score) : \n",
    "    grade = \"\"\n",
    "    if score > 100 or score < 0 : \n",
    "        grade = \"error: score cannot be less than 0 and greater than 100\"\n",
    "    elif score >= 90 :\n",
    "        grade = \"A\"\n",
    "    elif score >= 80 : \n",
    "        grade = \"B\"\n",
    "    elif score >=70 : \n",
    "        grade = \"C\"\n",
    "    elif score >= 60 : \n",
    "        grade = \"D\"\n",
    "    else : \n",
    "        grade = \"F\"\n",
    "    return grade \n"
   ]
  },
  {
   "cell_type": "code",
   "execution_count": 4,
   "metadata": {},
   "outputs": [
    {
     "name": "stdout",
     "output_type": "stream",
     "text": [
      "what is your exam score, round to the next number if needed: 44\n"
     ]
    },
    {
     "data": {
      "text/plain": [
       "'F'"
      ]
     },
     "execution_count": 4,
     "metadata": {},
     "output_type": "execute_result"
    }
   ],
   "source": [
    "score = int(input(\"what is your exam score, round to the next number if needed: \"))\n",
    "\n",
    "get_grade(score)"
   ]
  },
  {
   "cell_type": "markdown",
   "metadata": {},
   "source": [
    "### Exercise 4\n",
    "Convert following decimal number to a binary number by hand:\n",
    "\n",
    "    61\n",
    "    15\n",
    "    71\n",
    "    "
   ]
  },
  {
   "cell_type": "code",
   "execution_count": 58,
   "metadata": {},
   "outputs": [
    {
     "name": "stdout",
     "output_type": "stream",
     "text": [
      "0b111101\n",
      "0b1111\n",
      "0b1000111\n"
     ]
    }
   ],
   "source": [
    "#I'm still trying to figure out how to handle these binaries, going over my head\n",
    "\n",
    "print(bin(61))\n",
    "print(bin(15))\n",
    "print(bin(71))\n"
   ]
  },
  {
   "cell_type": "code",
   "execution_count": null,
   "metadata": {},
   "outputs": [],
   "source": []
  },
  {
   "cell_type": "markdown",
   "metadata": {},
   "source": [
    "### Exercise 5\n",
    "When a = 61 and b = 15, what is the result of following bitwise opertion? Use inline comments to show your result in a binary number. Find your answer by hand.\n",
    "\n",
    "    a & b\n",
    "    a | b\n",
    "    a ^ b\n",
    "    a >> 2\n",
    "    "
   ]
  },
  {
   "cell_type": "code",
   "execution_count": 59,
   "metadata": {},
   "outputs": [],
   "source": [
    "a = 61\n",
    "b = 15"
   ]
  },
  {
   "cell_type": "code",
   "execution_count": 61,
   "metadata": {},
   "outputs": [
    {
     "name": "stdout",
     "output_type": "stream",
     "text": [
      "13\n",
      "0b1101\n"
     ]
    }
   ],
   "source": [
    "print(a & b)\n",
    "print(bin(a & b))"
   ]
  },
  {
   "cell_type": "code",
   "execution_count": 62,
   "metadata": {},
   "outputs": [
    {
     "name": "stdout",
     "output_type": "stream",
     "text": [
      "63\n",
      "0b111111\n"
     ]
    }
   ],
   "source": [
    "print(a | b)\n",
    "print(bin(a | b))"
   ]
  },
  {
   "cell_type": "code",
   "execution_count": 63,
   "metadata": {},
   "outputs": [
    {
     "name": "stdout",
     "output_type": "stream",
     "text": [
      "50\n",
      "0b110010\n"
     ]
    }
   ],
   "source": [
    "print(a ^ b)\n",
    "print(bin(a ^ b))"
   ]
  },
  {
   "cell_type": "code",
   "execution_count": 64,
   "metadata": {},
   "outputs": [
    {
     "name": "stdout",
     "output_type": "stream",
     "text": [
      "0\n",
      "0b0\n"
     ]
    }
   ],
   "source": [
    "print(a >> b)\n",
    "print(bin(a >> b))"
   ]
  },
  {
   "cell_type": "code",
   "execution_count": null,
   "metadata": {},
   "outputs": [],
   "source": []
  }
 ],
 "metadata": {
  "kernelspec": {
   "display_name": "Python 3 (ipykernel)",
   "language": "python",
   "name": "python3"
  },
  "language_info": {
   "codemirror_mode": {
    "name": "ipython",
    "version": 3
   },
   "file_extension": ".py",
   "mimetype": "text/x-python",
   "name": "python",
   "nbconvert_exporter": "python",
   "pygments_lexer": "ipython3",
   "version": "3.9.7"
  }
 },
 "nbformat": 4,
 "nbformat_minor": 4
}
